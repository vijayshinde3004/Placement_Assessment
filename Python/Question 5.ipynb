{
 "cells": [
  {
   "cell_type": "markdown",
   "id": "aa0e3cb2",
   "metadata": {},
   "source": [
    "## Python"
   ]
  },
  {
   "cell_type": "markdown",
   "id": "99a959d6",
   "metadata": {},
   "source": [
    "## Question 5 "
   ]
  },
  {
   "cell_type": "markdown",
   "id": "bd907a3c",
   "metadata": {},
   "source": [
    "Question 5 -\n",
    "\n",
    "Write a program to download the data from the given API link and then extract the following data with\n",
    "proper formatting\n",
    "\n",
    "Link - http://api.tvmaze.com/singlesearch/shows?q=westworld&embed=episodes\n",
    "\n",
    "Note - Write proper code comments wherever needed for the code understanding"
   ]
  },
  {
   "cell_type": "code",
   "execution_count": null,
   "id": "e2d21ecf",
   "metadata": {},
   "outputs": [],
   "source": [
    "import requests\n",
    "url = \"http://api.tvmaze.com/singlesearch/shows?q=westworld&embed=episodes\"\n",
    "response = requests.get(url)\n",
    "data = response.json()\n",
    "show_name = data[\"name\"]\n",
    "show_type = data[\"type\"]\n",
    "show_language = data[\"language\"]\n",
    "show_genres = \", \".join(data[\"genres\"])\n",
    "show_status = data[\"status\"]\n",
    "show_runtime = data[\"runtime\"]\n",
    "show_summary = data[\"summary\"].replace(\"<p>\", \"\").replace(\"</p>\", \"\").replace(\"<b>\", \"\").replace(\"</b>\", \"\")\n",
    "\n",
    "print(show_name)\n",
    "print(show_type)\n",
    "print(show_language)\n",
    "print(show_genres)\n",
    "print(show_status)\n",
    "print(show_runtime)\n",
    "print(show_summary)"
   ]
  },
  {
   "cell_type": "markdown",
   "id": "8dd804ad",
   "metadata": {},
   "source": [
    "This code downloads the data from the provided link using the requests library.\n",
    "It then extracts the required data from the JSON response and formats it as required."
   ]
  },
  {
   "cell_type": "code",
   "execution_count": null,
   "id": "e1f7e796",
   "metadata": {},
   "outputs": [],
   "source": []
  },
  {
   "cell_type": "code",
   "execution_count": null,
   "id": "1a6d4a54",
   "metadata": {},
   "outputs": [],
   "source": []
  },
  {
   "cell_type": "code",
   "execution_count": null,
   "id": "e1d5cfe0",
   "metadata": {},
   "outputs": [],
   "source": []
  },
  {
   "cell_type": "code",
   "execution_count": null,
   "id": "479838e4",
   "metadata": {},
   "outputs": [],
   "source": []
  }
 ],
 "metadata": {
  "kernelspec": {
   "display_name": "Python 3 (ipykernel)",
   "language": "python",
   "name": "python3"
  },
  "language_info": {
   "codemirror_mode": {
    "name": "ipython",
    "version": 3
   },
   "file_extension": ".py",
   "mimetype": "text/x-python",
   "name": "python",
   "nbconvert_exporter": "python",
   "pygments_lexer": "ipython3",
   "version": "3.9.12"
  }
 },
 "nbformat": 4,
 "nbformat_minor": 5
}
