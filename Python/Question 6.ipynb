{
 "cells": [
  {
   "cell_type": "markdown",
   "id": "6941bc52",
   "metadata": {},
   "source": [
    "## Python"
   ]
  },
  {
   "cell_type": "markdown",
   "id": "6e95aa6a",
   "metadata": {},
   "source": [
    "## Question 6"
   ]
  },
  {
   "cell_type": "markdown",
   "id": "b56069ac",
   "metadata": {},
   "source": [
    "Question-6 [Python]\n",
    "Using the data from Question 3, write code to analyze the data and answer the following questions \n",
    "\n",
    "Note:-\n",
    "1. Draw plots to demonstrate the analysis for the following questions for better visualizations.\n",
    "2. Write code comments wherever required for code understanding\n",
    "\n",
    "Insights to be drawn -\n",
    "\n",
    "* Get all Pokemons whose spawn rate is less than 5%\n",
    "* Get all Pokemons that have less than 4 weaknesses\n",
    "* Get all Pokemons that have no multipliers at all\n",
    "* Get all Pokemons that do not have more than 2 evolutions\n",
    "* Get all Pokemons whose spawn time is less than 300 seconds.\n",
    "\n",
    "Note - spawn time format is \"05:32”, so assume “minute: second” format and perform the analysis.\n",
    "\n",
    "* Get all Pokemon who have more than two types of capabilities\n"
   ]
  },
  {
   "cell_type": "code",
   "execution_count": null,
   "id": "ecfe417f",
   "metadata": {},
   "outputs": [],
   "source": [
    "import pandas as pd\n",
    "import matplotlib.pyplot as plt\n",
    "df = pd.read_excel('pokemon_data.xlsx')\n",
    "\n",
    "\n",
    "spawn_rate = df[df['Spawn Chance'] < 5]\n",
    "\n",
    "\n",
    "fig, ax = plt.subplots(figsize=(10, 6))\n",
    "ax.bar(spawn_rate['Name'], spawn_rate['Spawn Chance'])\n",
    "ax.set_xticklabels(spawn_rate['Name'], rotation=90)\n",
    "ax.set_xlabel('Pokemon Name')\n",
    "ax.set_ylabel('Spawn Rate')\n",
    "ax.set_title('Pokemon Spawn Rate')\n",
    "\n",
    "\n",
    "\n",
    "\n",
    "weaknesses = df[df['Number of Weaknesses'] < 4]\n",
    "\n",
    "\n",
    "fig, ax = plt.subplots(figsize=(10, 6))\n",
    "ax.plot(weaknesses['Name'], weaknesses['Number of Weaknesses'])\n",
    "ax.set_xticklabels(weaknesses['Name'], rotation=90)\n",
    "ax.set_xlabel('Pokemon Name')\n",
    "ax.set_ylabel('Number of Weaknesses')\n",
    "ax.set_title('Pokemon Weaknesses')\n",
    "\n",
    "\n",
    "\n",
    "\n",
    "multipliers = df[df['Multipliers'].isnull()]\n",
    "\n",
    "\n",
    "fig, ax = plt.subplots(figsize=(10, 6))\n",
    "ax.scatter(multipliers['Attack'], multipliers['Defense'])\n",
    "ax.set_xlabel('Attack')\n",
    "ax.set_ylabel('Defense')\n",
    "ax.set_title('Pokemon Multipliers')\n",
    "\n",
    "\n",
    "evolutions = df[df['Number of Evolutions'] <= 2]\n",
    "\n",
    "fig, ax = plt.subplots(figsize=(10, 6))\n",
    "ax.pie(evolutions.groupby(['Legendary'])['Name'].count(), labels=['False', 'True'], autopct='%1.1f%%')\n",
    "ax.set_title('Pokemon Evolutions')\n",
    "\n",
    "\n",
    "spawn_time = df[df['Spawn Time'] < '00:05:00']\n",
    "\n",
    "fig, ax = plt.subplots(figsize=(10, 6))\n",
    "ax.hist(spawn_time['Spawn Time'])\n",
    "ax.set_xlabel('Spawn Time')\n",
    "ax.set_ylabel('Frequency')\n",
    "ax.set_title('Pokemon Spawn Time')\n",
    "\n",
    "\n",
    "types = df[df['Type'].str.contains(',')]\n",
    "\n",
    "fig, ax = plt.subplots(figsize=(10, 6))\n",
    "types.groupby(['Type']).size().unstack().plot(kind='bar', stacked=True, ax=ax)\n",
    "ax.set_xlabel('Pokemon Type')\n",
    "ax.set_ylabel('Count')\n",
    "ax.set_title('Pokemon Types')\n",
    "\n",
    "plt.show()\n",
    "\n"
   ]
  },
  {
   "cell_type": "code",
   "execution_count": null,
   "id": "d779674c",
   "metadata": {},
   "outputs": [],
   "source": []
  },
  {
   "cell_type": "code",
   "execution_count": null,
   "id": "4a83a66a",
   "metadata": {},
   "outputs": [],
   "source": []
  },
  {
   "cell_type": "code",
   "execution_count": null,
   "id": "89343037",
   "metadata": {},
   "outputs": [],
   "source": []
  },
  {
   "cell_type": "code",
   "execution_count": null,
   "id": "20052e8c",
   "metadata": {},
   "outputs": [],
   "source": []
  }
 ],
 "metadata": {
  "kernelspec": {
   "display_name": "Python 3 (ipykernel)",
   "language": "python",
   "name": "python3"
  },
  "language_info": {
   "codemirror_mode": {
    "name": "ipython",
    "version": 3
   },
   "file_extension": ".py",
   "mimetype": "text/x-python",
   "name": "python",
   "nbconvert_exporter": "python",
   "pygments_lexer": "ipython3",
   "version": "3.9.12"
  }
 },
 "nbformat": 4,
 "nbformat_minor": 5
}
