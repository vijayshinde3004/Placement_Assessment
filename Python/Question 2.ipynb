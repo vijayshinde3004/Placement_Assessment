{
 "cells": [
  {
   "cell_type": "markdown",
   "id": "727a7d04",
   "metadata": {},
   "source": [
    "## Python "
   ]
  },
  {
   "cell_type": "markdown",
   "id": "2196b5bd",
   "metadata": {},
   "source": [
    "## Question 2"
   ]
  },
  {
   "cell_type": "markdown",
   "id": "a80b99b5",
   "metadata": {},
   "source": [
    "'''\n",
    "[Python]\n",
    "\n",
    "Question 2: -\n",
    "\n",
    "Consider a string to be valid if all characters of the string appear the same number of times. It is also valid if\n",
    "he can remove just one character at the index in the string, and the remaining characters will occur the same\n",
    "number of times. Given a string, determine if it is valid. If so, return YES , otherwise return NO .\n",
    "\n",
    "Note - You have to write at least 2 additional test cases in which your program will run successfully and provide\n",
    "an explanation for the same.\n",
    "\n",
    "Example input 1 - s = “abc”. This is a valid string because frequencies are { “a”: 1, “b”: 1, “c”: 1 }\n",
    "Example output 1- YES\n",
    "\n",
    "Example input 2 - s “abcc”. This string is not valid as we can remove only 1 occurrence of “c”. That leaves\n",
    "character frequencies of { “a”: 1, “b”: 1 , “c”: 2 }\n",
    "Example output 2 - NO\n",
    "\n",
    "'''"
   ]
  },
  {
   "cell_type": "code",
   "execution_count": 2,
   "id": "6f346cfc",
   "metadata": {},
   "outputs": [],
   "source": [
    "def is_valid_string(s):\n",
    "    char_count = {}\n",
    "    for char in s:\n",
    "        char_count[char] = char_count.get(char, 0) + 1\n",
    "    freq_count = {}\n",
    "    for count in char_count.values():\n",
    "        freq_count[count] = freq_count.get(count, 0) + 1\n",
    "    if len(freq_count) == 1 or (len(freq_count) == 2 and 1 in freq_count.values()):\n",
    "        return \"YES\"\n",
    "    else:\n",
    "        return \"NO\""
   ]
  },
  {
   "cell_type": "code",
   "execution_count": 3,
   "id": "965b4309",
   "metadata": {},
   "outputs": [
    {
     "data": {
      "text/plain": [
       "'YES'"
      ]
     },
     "execution_count": 3,
     "metadata": {},
     "output_type": "execute_result"
    }
   ],
   "source": [
    "is_valid_string(\"abc\")"
   ]
  },
  {
   "cell_type": "markdown",
   "id": "2bb72f47",
   "metadata": {},
   "source": [
    "## Additional test case 1:\n",
    "print(is_valid_string(\"aabbcc\"))  # Output: YES\n",
    "\n",
    "\n",
    "''' Explanation:- In this case, all characters have the same frequency, so the string is valid.'''\n",
    "\n",
    "\n",
    "## Additional test case 2:\n",
    "print(is_valid_string(\"aabbc\"))  # Output: YES\n",
    "\n",
    "'''Explanation:- The character 'c' appears only once, so we can remove it to make all characters have the same frequency (2).'''"
   ]
  },
  {
   "cell_type": "code",
   "execution_count": null,
   "id": "e825f65f",
   "metadata": {},
   "outputs": [],
   "source": []
  },
  {
   "cell_type": "code",
   "execution_count": null,
   "id": "c267df0f",
   "metadata": {},
   "outputs": [],
   "source": []
  }
 ],
 "metadata": {
  "kernelspec": {
   "display_name": "Python 3 (ipykernel)",
   "language": "python",
   "name": "python3"
  },
  "language_info": {
   "codemirror_mode": {
    "name": "ipython",
    "version": 3
   },
   "file_extension": ".py",
   "mimetype": "text/x-python",
   "name": "python",
   "nbconvert_exporter": "python",
   "pygments_lexer": "ipython3",
   "version": "3.9.12"
  }
 },
 "nbformat": 4,
 "nbformat_minor": 5
}
