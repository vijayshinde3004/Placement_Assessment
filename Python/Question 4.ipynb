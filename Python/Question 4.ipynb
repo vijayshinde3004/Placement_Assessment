{
 "cells": [
  {
   "cell_type": "markdown",
   "id": "8b954a9f",
   "metadata": {},
   "source": [
    "## python"
   ]
  },
  {
   "cell_type": "markdown",
   "id": "efb52f7c",
   "metadata": {},
   "source": [
    "## Question 4"
   ]
  },
  {
   "cell_type": "markdown",
   "id": "c6ff2ae5",
   "metadata": {},
   "source": [
    "Question 4 -\n",
    "\n",
    "Write a program to download the data from the link given below and then read the data and convert the into\n",
    "the proper structure and return it as a CSV file.\n",
    "\n",
    "Link - https://data.nasa.gov/resource/y77d-th95.json\n",
    "\n",
    "Note - Write code comments wherever needed for code understanding."
   ]
  },
  {
   "cell_type": "code",
   "execution_count": 1,
   "id": "e655dd9c",
   "metadata": {
    "scrolled": true
   },
   "outputs": [
    {
     "name": "stdout",
     "output_type": "stream",
     "text": [
      "Data saved to nasa_data.csv\n"
     ]
    }
   ],
   "source": [
    "import requests\n",
    "import pandas as pd\n",
    "url = \"https://data.nasa.gov/resource/y77d-th95.json\"\n",
    "response = requests.get(url)\n",
    "df = pd.read_json(response.text)\n",
    "df.to_csv(\"nasa_data.csv\", index=False)\n",
    "print(\"Data saved to nasa_data.csv\")"
   ]
  },
  {
   "cell_type": "markdown",
   "id": "02c409e9",
   "metadata": {},
   "source": [
    "This code downloads the data from the provided link using the requests library.\n",
    "It then converts the data into a pandas dataframe using the read_json() function.\n",
    "Finally, it saves the dataframe to a CSV file using the to_csv() function."
   ]
  },
  {
   "cell_type": "code",
   "execution_count": null,
   "id": "b1678f88",
   "metadata": {},
   "outputs": [],
   "source": []
  }
 ],
 "metadata": {
  "kernelspec": {
   "display_name": "Python 3 (ipykernel)",
   "language": "python",
   "name": "python3"
  },
  "language_info": {
   "codemirror_mode": {
    "name": "ipython",
    "version": 3
   },
   "file_extension": ".py",
   "mimetype": "text/x-python",
   "name": "python",
   "nbconvert_exporter": "python",
   "pygments_lexer": "ipython3",
   "version": "3.9.12"
  }
 },
 "nbformat": 4,
 "nbformat_minor": 5
}
